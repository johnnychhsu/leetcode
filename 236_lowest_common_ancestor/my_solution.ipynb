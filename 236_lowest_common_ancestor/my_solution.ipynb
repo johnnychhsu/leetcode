{
 "cells": [
  {
   "cell_type": "code",
   "execution_count": 1,
   "metadata": {},
   "outputs": [],
   "source": [
    "class TreeNode:\n",
    "     def __init__(self, x):\n",
    "         self.val = x\n",
    "         self.left = None\n",
    "         self.right = None"
   ]
  },
  {
   "cell_type": "code",
   "execution_count": 8,
   "metadata": {},
   "outputs": [],
   "source": [
    "class Solution:\n",
    "    def lowestCommonAncestor(self, root, p, q):\n",
    "        \"\"\"\n",
    "        :type root: TreeNode\n",
    "        :type p: TreeNode\n",
    "        :type q: TreeNode\n",
    "        :rtype: TreeNode\n",
    "        \"\"\"\n",
    "        def find(root, value, record, found):\n",
    "            if root == value:\n",
    "                return True\n",
    "            elif root.left and not found:\n",
    "                record.append('l')\n",
    "                found = find(root.left, value, record, found)\n",
    "                if not found:\n",
    "                    record.pop()\n",
    "            elif root.right and not found:\n",
    "                record.append('r')\n",
    "                find(root.right, value, record, found)\n",
    "                if not found:\n",
    "                    record.pop()\n",
    "            else:\n",
    "                return False\n",
    "        \n",
    "        record_p = []\n",
    "        record_q = []\n",
    "        find(root, p, record_p, False)\n",
    "        find(root, q, record_q, False)\n",
    "\n",
    "        print (record_p)\n",
    "        print (record_q)\n",
    "\n",
    "        lcp = []\n",
    "        index = 0\n",
    "        for dir_p, dir_q in zip(record_p, record_q):\n",
    "            if dir_p != dir_q:\n",
    "                lcp = record_p[0: index]\n",
    "            else:\n",
    "                index += 1\n",
    "        ans = root\n",
    "        for direction in lcp:\n",
    "            if direction == 'l':\n",
    "                ans = ans.left\n",
    "            else:\n",
    "                ans = ans.right\n",
    "        return ans\n"
   ]
  },
  {
   "cell_type": "code",
   "execution_count": 3,
   "metadata": {},
   "outputs": [],
   "source": [
    "a = TreeNode(3)\n",
    "b = TreeNode(5)\n",
    "c = TreeNode(1)\n",
    "d = TreeNode(6)\n",
    "e = TreeNode(2)\n",
    "f = TreeNode(0)\n",
    "g = TreeNode(8)\n",
    "h = TreeNode(7)\n",
    "j = TreeNode(4)\n",
    "a.left = b\n",
    "a.right = c\n",
    "b.left = d\n",
    "b.right = e\n",
    "e.left = h\n",
    "e.right = j\n",
    "c.left = f\n",
    "c.right = g"
   ]
  },
  {
   "cell_type": "code",
   "execution_count": 9,
   "metadata": {},
   "outputs": [
    {
     "name": "stdout",
     "output_type": "stream",
     "text": [
      "['l']\n",
      "[]\n"
     ]
    },
    {
     "data": {
      "text/plain": [
       "<__main__.TreeNode at 0x10e9eacc0>"
      ]
     },
     "execution_count": 9,
     "metadata": {},
     "output_type": "execute_result"
    }
   ],
   "source": [
    "sol = Solution()\n",
    "sol.lowestCommonAncestor(a, b, c)   "
   ]
  },
  {
   "cell_type": "code",
   "execution_count": null,
   "metadata": {},
   "outputs": [],
   "source": []
  }
 ],
 "metadata": {
  "kernelspec": {
   "display_name": "Python 3",
   "language": "python",
   "name": "python3"
  },
  "language_info": {
   "codemirror_mode": {
    "name": "ipython",
    "version": 3
   },
   "file_extension": ".py",
   "mimetype": "text/x-python",
   "name": "python",
   "nbconvert_exporter": "python",
   "pygments_lexer": "ipython3",
   "version": "3.6.4"
  }
 },
 "nbformat": 4,
 "nbformat_minor": 2
}
