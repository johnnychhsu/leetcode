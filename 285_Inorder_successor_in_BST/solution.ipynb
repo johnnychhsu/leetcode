{
 "cells": [
  {
   "cell_type": "markdown",
   "metadata": {},
   "source": [
    "### 285. Inorder successor in BST\n",
    "This problem can be defined as find the smallest element that is greater then p. So except my solution(put all nodes in list inorder, then pop each), we can iterativly find node that match. Or, we can recursivly find.\n",
    "Below, the first one is iterativly\n",
    "Second is recirsivly.\n"
   ]
  },
  {
   "cell_type": "code",
   "execution_count": 19,
   "metadata": {},
   "outputs": [],
   "source": [
    "def inorderSuccessor_ite(root, p):\n",
    "    succ = None\n",
    "    while root:\n",
    "        if p.val < root.val:\n",
    "            succ = root\n",
    "            root = root.left\n",
    "        else:\n",
    "            root = root.right\n",
    "    return succ\n"
   ]
  },
  {
   "cell_type": "code",
   "execution_count": 20,
   "metadata": {},
   "outputs": [],
   "source": [
    "def inorderSuccessor_rec(root, p):\n",
    "    if not root:\n",
    "        return None\n",
    "    else:\n",
    "        if root.val <= p.val:\n",
    "            return inorderSuccessor(root.right, p)\n",
    "        else:\n",
    "            left = inorderSuccessor(root.left, p)\n",
    "            if left:\n",
    "                return left\n",
    "            else:\n",
    "                return root"
   ]
  },
  {
   "cell_type": "code",
   "execution_count": 21,
   "metadata": {},
   "outputs": [],
   "source": [
    "class ListNode():\n",
    "    \n",
    "    def __init__(self, x):\n",
    "        self.val = x\n",
    "        self.left = None\n",
    "        self.right = None"
   ]
  },
  {
   "cell_type": "code",
   "execution_count": 24,
   "metadata": {},
   "outputs": [
    {
     "name": "stdout",
     "output_type": "stream",
     "text": [
      "None\n"
     ]
    }
   ],
   "source": [
    "root = ListNode(2)\n",
    "p = ListNode(3)\n",
    "root.left = p\n",
    "root.right = ListNode(1)\n",
    "\n",
    "print(inorderSuccessor_ite(root, p))\n"
   ]
  },
  {
   "cell_type": "code",
   "execution_count": 25,
   "metadata": {},
   "outputs": [
    {
     "name": "stdout",
     "output_type": "stream",
     "text": [
      "None\n"
     ]
    }
   ],
   "source": [
    "print(inorderSuccessor_rec(root, p))\n"
   ]
  },
  {
   "cell_type": "code",
   "execution_count": null,
   "metadata": {},
   "outputs": [],
   "source": []
  }
 ],
 "metadata": {
  "kernelspec": {
   "display_name": "tensorflow_dev",
   "language": "python",
   "name": "tensorflow_dev"
  },
  "language_info": {
   "codemirror_mode": {
    "name": "ipython",
    "version": 3
   },
   "file_extension": ".py",
   "mimetype": "text/x-python",
   "name": "python",
   "nbconvert_exporter": "python",
   "pygments_lexer": "ipython3",
   "version": "3.6.4"
  }
 },
 "nbformat": 4,
 "nbformat_minor": 2
}
